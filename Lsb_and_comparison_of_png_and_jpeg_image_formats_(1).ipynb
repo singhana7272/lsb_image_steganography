{
  "nbformat": 4,
  "nbformat_minor": 0,
  "metadata": {
    "colab": {
      "name": "Lsb_and_comparison_of_png_and_jpeg_image_formats (1).ipynb",
      "provenance": []
    },
    "kernelspec": {
      "name": "python3",
      "display_name": "Python 3"
    }
  },
  "cells": [
    {
      "cell_type": "code",
      "metadata": {
        "id": "4zC7C3X846zM"
      },
      "source": [
        "#import libraries\r\n",
        "import sys\r\n",
        "import numpy as np\r\n",
        "from PIL import Image\r\n",
        "np.set_printoptions(threshold=sys.maxsize)"
      ],
      "execution_count": null,
      "outputs": []
    },
    {
      "cell_type": "code",
      "metadata": {
        "colab": {
          "base_uri": "https://localhost:8080/"
        },
        "id": "8-e0HHVEgpVo",
        "outputId": "72988a62-c602-4c75-90ad-0bd0df6c03d7"
      },
      "source": [
        "#encoding function\r\n",
        "def Encode(src, message, dest):\r\n",
        "\r\n",
        "    img = Image.open(src, 'r')\r\n",
        "    width, height = img.size\r\n",
        "    array = np.array(list(img.getdata()))\r\n",
        "\r\n",
        "    if img.mode == 'RGB':\r\n",
        "        n = 3\r\n",
        "        m = 0\r\n",
        "    elif img.mode == 'RGBA':\r\n",
        "        n = 4\r\n",
        "        m = 1\r\n",
        "\r\n",
        "    total_pixels = array.size//n\r\n",
        "\r\n",
        "    message += \"$t3g0\"\r\n",
        "    b_message = ''.join([format(ord(i), \"08b\") for i in message])\r\n",
        "    req_pixels = len(b_message)\r\n",
        "\r\n",
        "    if req_pixels > total_pixels:\r\n",
        "        print(\"ERROR: Need larger file size\")\r\n",
        "\r\n",
        "    else:\r\n",
        "        index=0\r\n",
        "        for p in range(total_pixels):\r\n",
        "            for q in range(m, n):\r\n",
        "                if index < req_pixels:\r\n",
        "                    array[p][q] = int(bin(array[p][q])[2:9] + b_message[index], 2)\r\n",
        "                    index += 1\r\n",
        "\r\n",
        "        array=array.reshape(height, width, n)\r\n",
        "        enc_img = Image.fromarray(array.astype('uint8'), img.mode)\r\n",
        "        enc_img.save(dest)\r\n",
        "        print(\"Image Encoded Successfully\")\r\n",
        "\r\n",
        "\r\n",
        "#decoding function\r\n",
        "def Decode(src):\r\n",
        "\r\n",
        "    img = Image.open(src, 'r')\r\n",
        "    array = np.array(list(img.getdata()))\r\n",
        "\r\n",
        "    if img.mode == 'RGB':\r\n",
        "        n = 3\r\n",
        "        m = 0\r\n",
        "    elif img.mode == 'RGBA':\r\n",
        "        n = 4\r\n",
        "        m = 1\r\n",
        "\r\n",
        "    total_pixels = array.size//n\r\n",
        "\r\n",
        "    hidden_bits = \"\"\r\n",
        "    for p in range(total_pixels):\r\n",
        "        for q in range(m, n):\r\n",
        "            hidden_bits += (bin(array[p][q])[2:][-1])\r\n",
        "\r\n",
        "    hidden_bits = [hidden_bits[i:i+8] for i in range(0, len(hidden_bits), 8)]\r\n",
        "\r\n",
        "    message = \"\"\r\n",
        "    for i in range(len(hidden_bits)):\r\n",
        "        if message[-5:] == \"$t3g0\":\r\n",
        "            break\r\n",
        "        else:\r\n",
        "            message += chr(int(hidden_bits[i], 2))\r\n",
        "    if \"$t3g0\" in message:\r\n",
        "        print(\"Hidden Message:\", message[:-5])\r\n",
        "    else:\r\n",
        "        print(\"No Hidden Message Found\")\r\n",
        "\r\n",
        "#main function\r\n",
        "def Stego():\r\n",
        "    print(\"--Welcome to $t3g0--\")\r\n",
        "    print(\"1: Encode\")\r\n",
        "    print(\"2: Decode\")\r\n",
        "\r\n",
        "    func = input()\r\n",
        "\r\n",
        "    if func == '1':\r\n",
        "        print(\"Enter Source Image Path\")\r\n",
        "        src = input()\r\n",
        "        print(\"Enter Message to Hide\")\r\n",
        "        message = input()\r\n",
        "        print(\"Enter Destination Image Path\")\r\n",
        "        dest = input()\r\n",
        "        print(\"Encoding...\")\r\n",
        "        Encode(src, message, dest)\r\n",
        "\r\n",
        "    elif func == '2':\r\n",
        "        print(\"Enter Source Image Path\")\r\n",
        "        src = input()\r\n",
        "        print(\"Decoding...\")\r\n",
        "        Decode(src)\r\n",
        "\r\n",
        "    else:\r\n",
        "        print(\"ERROR: Invalid option chosen\")\r\n",
        "\r\n",
        "Stego()\r\n"
      ],
      "execution_count": null,
      "outputs": [
        {
          "output_type": "stream",
          "text": [
            "--Welcome to $t3g0--\n",
            "1: Encode\n",
            "2: Decode\n",
            "1\n",
            "Enter Source Image Path\n",
            "/content/message_png.png\n",
            "Enter Message to Hide\n",
            "the password is abc\n",
            "Enter Destination Image Path\n",
            "/content/stegomessage_png.png\n",
            "Encoding...\n",
            "Image Encoded Successfully\n"
          ],
          "name": "stdout"
        }
      ]
    },
    {
      "cell_type": "code",
      "metadata": {
        "id": "nB0CkgFeyIXU"
      },
      "source": [
        "from skimage import data, img_as_float\r\n",
        "from skimage.metrics import structural_similarity as ssim\r\n",
        "def ssimcal(img,stego):\r\n",
        "  s=ssim(img,stego,multichannel= True)\r\n",
        "  return s"
      ],
      "execution_count": null,
      "outputs": []
    },
    {
      "cell_type": "code",
      "metadata": {
        "id": "M05SFDVMscic"
      },
      "source": [
        "def mse(original, stego):\r\n",
        "\t# the 'Mean Squared Error' between the two images is the\r\n",
        "\t# sum of the squared difference between the two images;\r\n",
        "\t# NOTE: the two images must have the same dimension\r\n",
        "\terr = np.sum((original.astype(\"float\") - stego.astype(\"float\")) ** 2)\r\n",
        "\terr /= float(original.shape[0] * stego.shape[1])\r\n",
        "\t\r\n",
        "\t# return the MSE, the lower the error, the more \"similar\"\r\n",
        "\t# the two images are\r\n",
        "\treturn err"
      ],
      "execution_count": null,
      "outputs": []
    },
    {
      "cell_type": "code",
      "metadata": {
        "colab": {
          "base_uri": "https://localhost:8080/"
        },
        "id": "ykfAt_eyc1GI",
        "outputId": "a05444ea-5a24-422b-9be9-97472b2db9a4"
      },
      "source": [
        "import cv2\r\n",
        "from google.colab.patches import cv2_imshow \r\n",
        "carpng = cv2.imread('/content/carplate_png.png')\r\n",
        "stegocarpng=cv2.imread('/content/stegocarplate_png.png')\r\n",
        "\r\n",
        "ssim_carpng=ssimcal(carpng,stegocarpng)\r\n",
        "mse_carpng=mse(carpng,stegocarpng)\r\n",
        "print(\"SSIM value for png carplate image =\",ssim_carpng)\r\n",
        "print(\"mse value for png carplate image =\",mse_carpng)\r\n",
        "\r\n",
        "carjpeg = cv2.imread('/content/carplate_jpeg.jpeg')\r\n",
        "stegocarjpeg=cv2.imread('/content/stegocarplate_jpeg.jpeg')\r\n",
        "\r\n",
        "ssim_carjpeg=ssimcal(carjpeg,stegocarjpeg)\r\n",
        "mse_carjpeg=mse(carjpeg,stegocarjpeg)\r\n",
        "print(\"SSIM value for jpeg carplate image =\",ssim_carjpeg)\r\n",
        "print(\"mse value for jpeg carplate image =\",mse_carjpeg)\r\n",
        "\r\n",
        "#Lower the mse value more is the image similar\r\n",
        "#Higher the ssim more is the image similar"
      ],
      "execution_count": null,
      "outputs": [
        {
          "output_type": "stream",
          "text": [
            "SSIM value for png carplate image = 0.9999996654100421\n",
            "mse value for png carplate image = 0.000448\n",
            "SSIM value for jpeg carplate image = 0.9898157634165822\n",
            "mse value for jpeg carplate image = 7.842528\n"
          ],
          "name": "stdout"
        }
      ]
    },
    {
      "cell_type": "code",
      "metadata": {
        "colab": {
          "base_uri": "https://localhost:8080/"
        },
        "id": "6kb5HRdMdGtB",
        "outputId": "c05e2db9-9733-4f87-e227-4f57b4392880"
      },
      "source": [
        "import cv2\r\n",
        "from google.colab.patches import cv2_imshow \r\n",
        "lenapng = cv2.imread('/content/lena_png.png')\r\n",
        "stegolenapng=cv2.imread('/content/stegolena_png.png')\r\n",
        "\r\n",
        "ssim_lenapng=ssimcal(lenapng,stegolenapng)\r\n",
        "mse_lenapng=mse(lenapng,stegolenapng)\r\n",
        "print(\"SSIM value for png lena image =\",ssim_lenapng)\r\n",
        "print(\"mse value for png lena image =\",mse_lenapng)\r\n",
        "\r\n",
        "lenajpeg = cv2.imread('/content/lena_jpeg.jpeg')\r\n",
        "stegolenajpeg=cv2.imread('/content/stegolena_jpeg.jpeg')\r\n",
        "\r\n",
        "ssim_lenajpeg=ssimcal(lenajpeg,stegolenajpeg)\r\n",
        "mse_lenajpeg=mse(lenajpeg,stegolenajpeg)\r\n",
        "print(\"SSIM value for jpeg lena image =\",ssim_lenajpeg)\r\n",
        "print(\"mse value for jpeg lena image =\",mse_lenajpeg)\r\n",
        "\r\n",
        "#Lower the mse value more is the image similar\r\n",
        "#Higher the ssim more is the image similar"
      ],
      "execution_count": null,
      "outputs": [
        {
          "output_type": "stream",
          "text": [
            "SSIM value for png lena image = 0.999893914328497\n",
            "mse value for png lena image = 3.7673301696777344\n",
            "SSIM value for jpeg lena image = 0.9182974788454578\n",
            "mse value for jpeg lena image = 61.36583709716797\n"
          ],
          "name": "stdout"
        }
      ]
    },
    {
      "cell_type": "code",
      "metadata": {
        "colab": {
          "base_uri": "https://localhost:8080/"
        },
        "id": "GGhQQH_I7r-Y",
        "outputId": "ff4bc873-4630-4bc5-d052-81ec2d3a9a4a"
      },
      "source": [
        "import cv2\r\n",
        "from google.colab.patches import cv2_imshow \r\n",
        "messagepng = cv2.imread('/content/message_png.png')\r\n",
        "stegomessagepng=cv2.imread('/content/stegomessage_png.png')\r\n",
        "\r\n",
        "ssim_messagepng=ssimcal(messagepng,stegomessagepng)\r\n",
        "mse_messagepng=mse(messagepng,stegomessagepng)\r\n",
        "print(\"SSIM value for png message image =\",ssim_messagepng)\r\n",
        "print(\"mse value for png message image =\",mse_messagepng)\r\n",
        "\r\n",
        "messagejpeg = cv2.imread('/content/message_jpeg.jpeg')\r\n",
        "stegomessagejpeg=cv2.imread('/content/stegomessage_jpeg.jpeg')\r\n",
        "\r\n",
        "ssim_messagejpeg=ssimcal(messagejpeg,stegomessagejpeg)\r\n",
        "mse_messagejpeg=mse(messagejpeg,stegomessagejpeg)\r\n",
        "print(\"SSIM value for jpeg message image =\",ssim_messagejpeg)\r\n",
        "print(\"mse value for jpeg message image =\",mse_messagejpeg)\r\n",
        "\r\n",
        "#Lower the mse value more is the image similar\r\n",
        "#Higher the ssim more is the image similar"
      ],
      "execution_count": null,
      "outputs": [
        {
          "output_type": "stream",
          "text": [
            "SSIM value for png message image = 0.9995678504811286\n",
            "mse value for png message image = 10.704702380952382\n",
            "SSIM value for jpeg message image = 0.9957148317278738\n",
            "mse value for jpeg message image = 9.983373015873015\n"
          ],
          "name": "stdout"
        }
      ]
    },
    {
      "cell_type": "code",
      "metadata": {
        "colab": {
          "base_uri": "https://localhost:8080/"
        },
        "id": "XPTvrw-M9BlY",
        "outputId": "814e03f6-118a-4f36-b8f0-146ce7ad6fa8"
      },
      "source": [
        "import pandas as pd\r\n",
        "path=\"/content/MSE_comparison - Sheet1.csv\"\r\n",
        "df1=pd.read_csv(path)\r\n",
        "print(df1)"
      ],
      "execution_count": null,
      "outputs": [
        {
          "output_type": "stream",
          "text": [
            "     IMAGE TITLE  MSE_png  MSE_jpeg\n",
            "0       carplate    28.47     36.09\n",
            "1     lena_image    10.02     68.53\n",
            "2  message_image    78.84     80.46\n"
          ],
          "name": "stdout"
        }
      ]
    },
    {
      "cell_type": "code",
      "metadata": {
        "colab": {
          "base_uri": "https://localhost:8080/"
        },
        "id": "04fVaOucEjwP",
        "outputId": "80d1bbde-f484-4d67-87d5-f7c84b82947a"
      },
      "source": [
        "import pandas as pd\r\n",
        "path=\"/content/SSIM_comparison - Sheet1.csv\"\r\n",
        "df2=pd.read_csv(path)\r\n",
        "print(df2)"
      ],
      "execution_count": null,
      "outputs": [
        {
          "output_type": "stream",
          "text": [
            "  IMAGE TITLE  SSIM_png  SSIM_jpeg\n",
            "0    carplate     0.990      0.980\n",
            "1        lena     0.990      0.910\n",
            "2     message     0.998      0.994\n"
          ],
          "name": "stdout"
        }
      ]
    },
    {
      "cell_type": "code",
      "metadata": {
        "colab": {
          "base_uri": "https://localhost:8080/",
          "height": 265
        },
        "id": "oTyZSx7XFAuA",
        "outputId": "2f8549c3-d414-4756-e42f-a7ed21c5b5f8"
      },
      "source": [
        "import matplotlib.pyplot as plt\r\n",
        "%matplotlib inline\r\n",
        "\r\n",
        "plt.plot(df1['MSE_png'],label='MSE png')\r\n",
        "\r\n",
        "plt.plot(df1['MSE_jpeg'],label='MSE jpeg')\r\n",
        "\r\n",
        "plt.legend()\r\n",
        "plt.show()"
      ],
      "execution_count": null,
      "outputs": [
        {
          "output_type": "display_data",
          "data": {
            "image/png": "[encoded data removed]",
            "text/plain": [
              "<Figure size 432x288 with 1 Axes>"
            ]
          },
          "metadata": {
            "tags": [],
            "needs_background": "light"
          }
        }
      ]
    },
    {
      "cell_type": "code",
      "metadata": {
        "colab": {
          "base_uri": "https://localhost:8080/",
          "height": 265
        },
        "id": "e669FdXVJP12",
        "outputId": "cf0454f1-234e-4a30-922d-41d95f22d4c0"
      },
      "source": [
        "import matplotlib.pyplot as plt\r\n",
        "%matplotlib inline\r\n",
        "\r\n",
        "plt.plot(df2['SSIM_png'],label='SSIM png')\r\n",
        "\r\n",
        "plt.plot(df2['SSIM_jpeg'],label='SSIM jpeg')\r\n",
        "\r\n",
        "plt.legend()\r\n",
        "plt.show()"
      ],
      "execution_count": null,
      "outputs": [
        {
          "output_type": "display_data",
          "data": {
            "image/png": "[encoded data removed]",
            "text/plain": [
              "<Figure size 432x288 with 1 Axes>"
            ]
          },
          "metadata": {
            "tags": [],
            "needs_background": "light"
          }
        }
      ]
    },
    {
      "cell_type": "code",
      "metadata": {
        "id": "9U-_sa_bLlol"
      },
      "source": [
        ""
      ],
      "execution_count": null,
      "outputs": []
    }
  ]
}